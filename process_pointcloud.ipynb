{
 "cells": [
  {
   "cell_type": "markdown",
   "metadata": {},
   "source": [
    "# Process a given pointcloud \n",
    "\n",
    "The aim of this notebook is to showcase some of the wrappers developed over the CloudCompare routines, namely, how to classify floor and ceiling, and compute the illuminance (or visible sky fraction)."
   ]
  },
  {
   "cell_type": "code",
   "execution_count": 1,
   "metadata": {},
   "outputs": [],
   "source": [
    "from base import cloth_simulation_filter, compute_illuminance"
   ]
  },
  {
   "cell_type": "code",
   "execution_count": 2,
   "metadata": {},
   "outputs": [],
   "source": [
    "filepath = \"F:ScanLeica\\\\data_paper\\\\data\\\\Archamps\\\\PostEtroiture\\\\pointclouds\\\\Archamps_PostEtroiture_sampled_5cm_PCV_normals_classified_georef.las\""
   ]
  },
  {
   "cell_type": "code",
   "execution_count": 3,
   "metadata": {},
   "outputs": [
    {
     "name": "stdout",
     "output_type": "stream",
     "text": [
      "F:ScanLeica\\data_paper\\data\\Archamps\\PostEtroiture\\pointclouds\\Archamps_PostEtroiture_sampled_5cm_PCV_normals_classified_georef.las\n",
      "merged cloud has <bound method PyCapsule.size of <_cloudComPy.ccPointCloud object at 0x00000206CCA7B970>> points\n"
     ]
    }
   ],
   "source": [
    "# run the cloth simulation filter wrapper.\n",
    "cloth_simulation_filter.cloth_simulation_filter(filepath)"
   ]
  },
  {
   "cell_type": "code",
   "execution_count": 4,
   "metadata": {},
   "outputs": [
    {
     "name": "stdout",
     "output_type": "stream",
     "text": [
      "F:ScanLeica\\data_paper\\data\\Archamps\\PostEtroiture\\pointclouds\\Archamps_PostEtroiture_sampled_5cm_PCV_normals_classified_georef.las\n"
     ]
    }
   ],
   "source": [
    "# run the illuminance calculation wrapper.\n",
    "compute_illuminance.compute_illuminance(filepath)"
   ]
  }
 ],
 "metadata": {
  "kernelspec": {
   "display_name": "Python 3 (ipykernel)",
   "language": "python",
   "name": "python3"
  },
  "language_info": {
   "codemirror_mode": {
    "name": "ipython",
    "version": 3
   },
   "file_extension": ".py",
   "mimetype": "text/x-python",
   "name": "python",
   "nbconvert_exporter": "python",
   "pygments_lexer": "ipython3",
   "version": "3.10.8"
  }
 },
 "nbformat": 4,
 "nbformat_minor": 2
}
