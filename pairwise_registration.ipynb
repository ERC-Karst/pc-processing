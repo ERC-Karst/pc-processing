{
 "cells": [
  {
   "cell_type": "code",
   "execution_count": 43,
   "metadata": {},
   "outputs": [],
   "source": [
    "from base.pairwise_registration import pairwise_registration\n",
    "import numpy as np\n",
    "import matplotlib.pyplot as plt"
   ]
  },
  {
   "cell_type": "code",
   "execution_count": 44,
   "metadata": {},
   "outputs": [],
   "source": [
    "source = np.loadtxt(\"sample_data/georef/MarkovSpodmol_ScanTargets.txt\", \n",
    "                    skiprows=1, usecols=[1,2,3], delimiter=\",\")\n",
    "target = np.loadtxt(\"sample_data/georef/MarkovSpodmol_StationCoords.txt\",\n",
    "                    skiprows=1, usecols=[1,2,3], delimiter=\",\")\n",
    "\n",
    "names = np.loadtxt(\"sample_data/georef/MarkovSpodmol_StationCoords.txt\",\n",
    "                    skiprows=1, usecols=[0], delimiter=\",\", dtype=str)"
   ]
  },
  {
   "cell_type": "code",
   "execution_count": 26,
   "metadata": {},
   "outputs": [
    {
     "name": "stdout",
     "output_type": "stream",
     "text": [
      "mean residual errors are within tolerance of 0.3!\n"
     ]
    }
   ],
   "source": [
    "result = pairwise_registration(source, target, atol=0.3)"
   ]
  },
  {
   "cell_type": "code",
   "execution_count": 51,
   "metadata": {},
   "outputs": [
    {
     "data": {
      "image/png": "[encoded data removed]",
      "text/plain": [
       "<Figure size 600x300 with 2 Axes>"
      ]
     },
     "metadata": {},
     "output_type": "display_data"
    }
   ],
   "source": [
    "fig, axes = plt.subplots(1, 2, figsize=(6, 3))\n",
    "\n",
    "axes[0].scatter(*source[:,[0,1]].T)\n",
    "axes[1].scatter(*target[:,[0,1]].T)\n",
    "axes[1].scatter(*result[\"P1_prime\"][[0,1]], marker=\"+\")\n",
    "\n",
    "for ax in axes:\n",
    "    ax.set_aspect(\"equal\")"
   ]
  },
  {
   "cell_type": "markdown",
   "metadata": {},
   "source": [
    "The residual error in x, y, z after the rigid transformation are the following:"
   ]
  },
  {
   "cell_type": "code",
   "execution_count": 28,
   "metadata": {},
   "outputs": [],
   "source": [
    "residuals = result[\"P1_prime\"].T -target"
   ]
  },
  {
   "cell_type": "markdown",
   "metadata": {},
   "source": [
    "The root mean square error after registration of the source points to the targets is the following"
   ]
  },
  {
   "cell_type": "code",
   "execution_count": 34,
   "metadata": {},
   "outputs": [
    {
     "data": {
      "text/plain": [
       "0.3119989594233872"
      ]
     },
     "execution_count": 34,
     "metadata": {},
     "output_type": "execute_result"
    }
   ],
   "source": [
    "np.sqrt(np.mean(np.linalg.norm(residuals, axis=1)**2))"
   ]
  },
  {
   "cell_type": "markdown",
   "metadata": {},
   "source": [
    "The translation corresponds broadly to shifting the point cloud to its geographic coordinates:"
   ]
  },
  {
   "cell_type": "code",
   "execution_count": 35,
   "metadata": {},
   "outputs": [
    {
     "data": {
      "text/plain": [
       "array([[430398.61566872],\n",
       "       [ 65590.75236516],\n",
       "       [   554.33041506]])"
      ]
     },
     "execution_count": 35,
     "metadata": {},
     "output_type": "execute_result"
    }
   ],
   "source": [
    "result[\"T\"]"
   ]
  },
  {
   "cell_type": "markdown",
   "metadata": {},
   "source": [
    "The rotation matrix on the other hand is the following: "
   ]
  },
  {
   "cell_type": "code",
   "execution_count": 36,
   "metadata": {},
   "outputs": [
    {
     "data": {
      "text/plain": [
       "array([[ 9.28419460e-01,  3.71533673e-01,  1.89200265e-04],\n",
       "       [-3.71533375e-01,  9.28417776e-01,  1.83960890e-03],\n",
       "       [ 5.07819763e-04, -1.77822291e-03,  9.99998290e-01]])"
      ]
     },
     "execution_count": 36,
     "metadata": {},
     "output_type": "execute_result"
    }
   ],
   "source": [
    "result[\"R\"]"
   ]
  },
  {
   "cell_type": "markdown",
   "metadata": {},
   "source": [
    "Here we can see that the rotation matrix has the approximate form of: \n",
    "\n",
    "$\\begin{bmatrix}  cos(\\theta)& -sin(\\theta)&0 \\\\ sin(\\theta)& cos(\\theta)&0 \\\\ 0&0&1 \\\\ \\end{bmatrix}$"
   ]
  },
  {
   "cell_type": "code",
   "execution_count": 42,
   "metadata": {},
   "outputs": [
    {
     "name": "stdout",
     "output_type": "stream",
     "text": [
      "Rotation matrix corresponds to a simple counterclockwise rotation of 34 degrees\n"
     ]
    }
   ],
   "source": [
    "print(f\"Rotation matrix corresponds to a simple counterclockwise rotation of {np.rad2deg(np.cos(0.92842)):.0f} degrees\")"
   ]
  },
  {
   "cell_type": "markdown",
   "metadata": {},
   "source": [
    "This corresponds to a 34° counter clockwise rotation around a vertical axis, which is what we expected from a scan where the horizontal inclination is well controlled. "
   ]
  },
  {
   "cell_type": "code",
   "execution_count": null,
   "metadata": {},
   "outputs": [],
   "source": []
  }
 ],
 "metadata": {
  "kernelspec": {
   "display_name": "Python 3",
   "language": "python",
   "name": "python3"
  },
  "language_info": {
   "codemirror_mode": {
    "name": "ipython",
    "version": 3
   },
   "file_extension": ".py",
   "mimetype": "text/x-python",
   "name": "python",
   "nbconvert_exporter": "python",
   "pygments_lexer": "ipython3",
   "version": "3.10.8"
  }
 },
 "nbformat": 4,
 "nbformat_minor": 2
}
