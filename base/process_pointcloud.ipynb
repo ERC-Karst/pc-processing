{
 "cells": [
  {
   "cell_type": "markdown",
   "metadata": {},
   "source": [
    "# Process a given pointcloud \n",
    "\n",
    "The aim of this notebook is to showcase some of the wrappers developed over the CloudCompare routines, namely, how to classify floor and ceiling, and compute the illuminance (or visible sky fraction)."
   ]
  },
  {
   "cell_type": "code",
   "execution_count": 1,
   "metadata": {},
   "outputs": [],
   "source": [
    "from base import cloth_simulation_filter, compute_illuminance"
   ]
  },
  {
   "cell_type": "code",
   "execution_count": 2,
   "metadata": {},
   "outputs": [],
   "source": [
    "filepath = \"F:ScanLeica\\\\data_paper\\\\data\\\\Archamps\\\\PostEtroiture\\\\pointclouds\\\\Archamps_PostEtroiture_sampled_5cm_PCV_normals_classified_georef.las\""
   ]
  },
  {
   "cell_type": "code",
   "execution_count": null,
   "metadata": {},
   "outputs": [
    {
     "name": "stdout",
     "output_type": "stream",
     "text": [
      "F:ScanLeica\\data_paper\\data\\Archamps\\PostEtroiture\\pointclouds\\Archamps_PostEtroiture_sampled_5cm_PCV_normals_classified_georef.las\n"
     ]
    },
    {
     "ename": "AttributeError",
     "evalue": "'_cloudComPy.ccPointCloud' object has no attribute 'points'",
     "output_type": "error",
     "traceback": [
      "\u001b[1;31m---------------------------------------------------------------------------\u001b[0m",
      "\u001b[1;31mAttributeError\u001b[0m                            Traceback (most recent call last)",
      "Cell \u001b[1;32mIn[3], line 1\u001b[0m\n\u001b[1;32m----> 1\u001b[0m \u001b[43mcloth_simulation_filter\u001b[49m\u001b[38;5;241;43m.\u001b[39;49m\u001b[43mcloth_simulation_filter\u001b[49m\u001b[43m(\u001b[49m\u001b[43mfilepath\u001b[49m\u001b[43m)\u001b[49m\n",
      "File \u001b[1;32mM:\\GitHub\\pc-processing\\base\\cloth_simulation_filter.py:39\u001b[0m, in \u001b[0;36mcloth_simulation_filter\u001b[1;34m(filepath, csf_args)\u001b[0m\n\u001b[0;32m     33\u001b[0m     \u001b[38;5;66;03m# scalar field arithmetic to assign ground = 2, offground = 1\u001b[39;00m\n\u001b[0;32m     35\u001b[0m     merged_cloud \u001b[38;5;241m=\u001b[39m cc\u001b[38;5;241m.\u001b[39mMergeEntities([ground, offground], \n\u001b[0;32m     36\u001b[0m                      createSFcloudIndex\u001b[38;5;241m=\u001b[39m \u001b[38;5;28;01mFalse\u001b[39;00m,\n\u001b[0;32m     37\u001b[0m                        deleteOriginalClouds\u001b[38;5;241m=\u001b[39m\u001b[38;5;28;01mTrue\u001b[39;00m)\n\u001b[1;32m---> 39\u001b[0m     \u001b[38;5;28mprint\u001b[39m(\u001b[38;5;124mf\u001b[39m\u001b[38;5;124m\"\u001b[39m\u001b[38;5;124mmerged cloud has \u001b[39m\u001b[38;5;132;01m{\u001b[39;00m\u001b[43mmerged_cloud\u001b[49m\u001b[38;5;241;43m.\u001b[39;49m\u001b[43mpoints\u001b[49m\u001b[38;5;132;01m}\u001b[39;00m\u001b[38;5;124m points\u001b[39m\u001b[38;5;124m\"\u001b[39m)\n\u001b[0;32m     40\u001b[0m     _ \u001b[38;5;241m=\u001b[39m cc\u001b[38;5;241m.\u001b[39mSavePointCloud(merged_cloud, filepath)\n\u001b[0;32m     42\u001b[0m \u001b[38;5;28;01mexcept\u001b[39;00m \u001b[38;5;167;01mFileNotFoundError\u001b[39;00m:\n",
      "\u001b[1;31mAttributeError\u001b[0m: '_cloudComPy.ccPointCloud' object has no attribute 'points'"
     ]
    }
   ],
   "source": [
    "# run the cloth simulation filter wrapper.\n",
    "cloth_simulation_filter.cloth_simulation_filter(filepath)"
   ]
  },
  {
   "cell_type": "code",
   "execution_count": null,
   "metadata": {},
   "outputs": [],
   "source": [
    "# run the illuminance calculation wrapper.\n",
    "compute_illuminance.compute_illuminance(filepath)"
   ]
  }
 ],
 "metadata": {
  "kernelspec": {
   "display_name": "Python 3 (ipykernel)",
   "language": "python",
   "name": "python3"
  },
  "language_info": {
   "codemirror_mode": {
    "name": "ipython",
    "version": 3
   },
   "file_extension": ".py",
   "mimetype": "text/x-python",
   "name": "python",
   "nbconvert_exporter": "python",
   "pygments_lexer": "ipython3",
   "version": "3.10.8"
  }
 },
 "nbformat": 4,
 "nbformat_minor": 2
}
