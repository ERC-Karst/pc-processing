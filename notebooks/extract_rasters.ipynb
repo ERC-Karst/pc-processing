{
 "cells": [
  {
   "cell_type": "markdown",
   "metadata": {},
   "source": [
    "# Extraction of floor and ceiling digital elevation model\n",
    "\n",
    "This aim of this notebook is to demonstrate how to use the CloudComPy310 rasterisation routines to generate geotiff raster files. \n",
    "We loop through our data folder and call the `extract_raster` subroutine on the relevant point cloud datasets, saving floor and ceiling files."
   ]
  },
  {
   "cell_type": "code",
   "execution_count": null,
   "metadata": {},
   "outputs": [],
   "source": [
    "from os import path, listdir\n",
    "\n",
    "# local files.\n",
    "from base.extract_raster import extract_raster"
   ]
  },
  {
   "cell_type": "markdown",
   "metadata": {},
   "source": [
    "## Data repository structure \n",
    "\n",
    "```root/\n",
    "|--- Cave1/\n",
    "|    |--- Passage1/\n",
    "|    |    |--- pointclouds/\n",
    "|    |    |    |--- Cave1_Passage1_sampled_2mm_PCV_normals_classified_georef.las\n",
    "|    |    |    |--- Cave1_Passage1_sampled_5cm_PCV_normals_classified_georef.las\n",
    "|    |    |--- mesh/\n",
    "|    |    |    |--- Cave1_Passage1_mesh_5cm.ply\n",
    "|    |    |--- raster/\n",
    "|    |    |    |--- Cave1_Passage1_floor_4cm.tif\n",
    "|    |    |    |--- Cave1_Passage1_floor_4cm_Cave_Terrain.tif\n",
    "|    |    |    |--- Cave1_Passage1_ceiling_4cm.tif\n",
    "|    |    |    |--- Cave1_Passage1_ceiling_4cm_Cave_Terrain.tif\n",
    "|    |    |--- centreline/\n",
    "|    |    |    |--- Cave1_Passage1_nodes.txt\n",
    "|    |    |    |--- Cave1_Passage1_links.txt\n",
    "|    |    |    |--- Cave1_Passage1_branches.txt\n",
    "|    |    |    |--- Cave1_Passage1.dxf\n",
    "|    |    |    |--- Cave1_Passage1.geojsons\n",
    "|    |    |--- scan.yaml\n",
    "|    |--- Passage2/\n",
    "|    |    |...\n",
    "|    |--- cave.yaml\n",
    "|--- Cave2/\n",
    "|    | ...\n",
    "```\n"
   ]
  },
  {
   "cell_type": "code",
   "execution_count": null,
   "metadata": {},
   "outputs": [],
   "source": [
    "# change here the path to the repository of karst catalogue\n",
    "data_repository = \"F:/ScanLeica/data_paper/data\" \n",
    "\n",
    "# list the different cave directories at the root directory level\n",
    "caves = [elem for elem in listdir(data_repository) if \".\" not in elem]\n",
    "\n",
    "# find unique passage filepaths\n",
    "passages_filepath = []\n",
    "\n",
    "for cave in caves:\n",
    "    # list all directory names within data\n",
    "    new_passages = [elem for elem in listdir(path.join(data_repository, cave)) if \".\" not in elem]\n",
    "    for new_passage in new_passages:\n",
    "        passages_filepath.append(path.normpath(path.join(data_repository, cave, new_passage)))"
   ]
  },
  {
   "cell_type": "code",
   "execution_count": 4,
   "metadata": {},
   "outputs": [],
   "source": [
    "# run the routine on all identified filepaths.\n",
    "for filepath  in passages_filepath:\n",
    "    print(\"processing file: \", filepath)\n",
    "    extract_raster(filepath=filepath, raster_grid=0.04)"
   ]
  }
 ],
 "metadata": {
  "kernelspec": {
   "display_name": "Python 3 (ipykernel)",
   "language": "python",
   "name": "python3"
  }
 },
 "nbformat": 4,
 "nbformat_minor": 4
}
