{
 "cells": [
  {
   "cell_type": "markdown",
   "metadata": {},
   "source": [
    "# Process a given pointcloud with wrappers\n",
    "\n",
    "The aim of this notebook is to showcase some of the wrappers developed over the CloudCompare routines, namely, how to classify floor and ceiling, and compute the illuminance (or visible sky fraction). To do this, we demonstrate the use of the ``cloth_simulation_filter`` and ``compute_illuminance`` routines."
   ]
  },
  {
   "cell_type": "code",
   "execution_count": 1,
   "metadata": {},
   "outputs": [],
   "source": [
    "from base.cloth_simulation_filter import cloth_simulation_filter\n",
    "from base.compute_illuminance import compute_illuminance"
   ]
  },
  {
   "cell_type": "code",
   "execution_count": null,
   "metadata": {},
   "outputs": [],
   "source": [
    "# The updated file will be saved in place with two new scalar fields,\n",
    "# namely: Classification and Illuminance (PCV).\n",
    "\n",
    "# you can change here the source file. \n",
    "filepath = \"data/SampleCloud.las\""
   ]
  },
  {
   "cell_type": "code",
   "execution_count": null,
   "metadata": {},
   "outputs": [],
   "source": [
    "# run the cloth simulation filter routine.\n",
    "cloth_simulation_filter(filepath)"
   ]
  },
  {
   "cell_type": "code",
   "execution_count": null,
   "metadata": {},
   "outputs": [],
   "source": [
    "# run the illuminance calculation routine.\n",
    "compute_illuminance(filepath)"
   ]
  }
 ],
 "metadata": {
  "kernelspec": {
   "display_name": "Python 3 (ipykernel)",
   "language": "python",
   "name": "python3"
  },
  "language_info": {
   "codemirror_mode": {
    "name": "ipython",
    "version": 3
   },
   "file_extension": ".py",
   "mimetype": "text/x-python",
   "name": "python",
   "nbconvert_exporter": "python",
   "pygments_lexer": "ipython3",
   "version": "3.10.8"
  }
 },
 "nbformat": 4,
 "nbformat_minor": 2
}
