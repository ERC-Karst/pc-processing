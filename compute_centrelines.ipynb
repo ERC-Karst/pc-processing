{
 "cells": [
  {
   "cell_type": "code",
   "execution_count": null,
   "metadata": {},
   "outputs": [],
   "source": [
    "from os import path, listdir\n",
    "\n",
    "# our own routines.\n",
    "from base.process_centreline import process_centreline\n",
    "from base.to_dxf import to_DXF\n",
    "from base.to_geojsons import to_geojsons"
   ]
  },
  {
   "cell_type": "markdown",
   "metadata": {},
   "source": [
    "## Data repository structure \n",
    "\n",
    "``` root/\n",
    "|--- Cave1/\n",
    "|    |--- Passage1/\n",
    "|    |    |--- pointclouds/\n",
    "|    |    |    |--- Cave1_Passage1_sampled_2mm_PCV_normals_classified_georef.las\n",
    "|    |    |    |--- Cave1_Passage1_sampled_5cm_PCV_normals_classified_georef.las\n",
    "|    |    |--- mesh/\n",
    "|    |    |    |--- Cave1_Passage1_mesh_5cm.ply\n",
    "|    |    |--- raster/\n",
    "|    |    |    |--- Cave1_Passage1_floor_4cm.tif\n",
    "|    |    |    |--- Cave1_Passage1_floor_4cm_Cave_Terrain.tif\n",
    "|    |    |    |--- Cave1_Passage1_ceiling_4cm.tif\n",
    "|    |    |    |--- Cave1_Passage1_ceiling_4cm_Cave_Terrain.tif\n",
    "|    |    |--- centreline/\n",
    "|    |    |    |--- Cave1_Passage1_nodes.txt\n",
    "|    |    |    |--- Cave1_Passage1_links.txt\n",
    "|    |    |    |--- Cave1_Passage1_branches.txt\n",
    "|    |    |    |--- Cave1_Passage1.dxf\n",
    "|    |    |    |--- Cave1_Passage1.geojsons\n",
    "|    |    |--- scan.yaml\n",
    "|    |--- Passage2/\n",
    "|    |    |...\n",
    "|    |--- cave.yaml\n",
    "|--- Cave2/\n",
    "|    | ...\n",
    "```\n"
   ]
  },
  {
   "cell_type": "code",
   "execution_count": null,
   "metadata": {},
   "outputs": [],
   "source": [
    "# change here the path to the repository of karst catalogue\n",
    "data_repository = \"./data\" \n",
    "\n",
    "# list the different cave directories at the root directory level\n",
    "caves = [elem for elem in listdir(data_repository) if \".\" not in elem]\n",
    "\n",
    "# find unique passage filepaths\n",
    "passages_fp = []\n",
    "for cave in caves:\n",
    "    # list all directory names within data\n",
    "    new_passages = [elem for elem in listdir(path.join(data_repository, cave)) if \".\" not in elem]\n",
    "    for new_passage in new_passages:\n",
    "        passages_fp.append(path.normpath(path.join(data_repository, cave, new_passage)))"
   ]
  },
  {
   "cell_type": "code",
   "execution_count": null,
   "metadata": {},
   "outputs": [],
   "source": [
    "centrelines = []\n",
    "\n",
    "# overwrite the laplacian.based contraction algorithm default arguments here.\n",
    "lbc_args = dict(init_contraction = 0.5,\n",
    "                init_attraction = 0.5, \n",
    "                down_sample=0.4)\n",
    "\n",
    "# overwrite the centreline downsampling default arguments here.\n",
    "ct_args = dict(centreline_min_distance = 0.4,  # minimum distance between spatially downsampled points of a centreline.\n",
    "               octree_level = 5, # threshold distance for connected component analysis. \n",
    "               min_component_size = 5,  # minimum component size in connected component analysis.\n",
    "               knn = 12) # number of nearest neighbours to be considered when building the minimum spanning tree of a thinned graph.\n",
    "\n",
    "# cycle through passage names and run the routine.\n",
    "for fp in passages_fp[:2]:\n",
    "    centreline = process_centreline(fp, lbc_args=lbc_args, ct_args=ct_args)\n",
    "    centrelines.append(centreline) "
   ]
  }
 ],
 "metadata": {
  "kernelspec": {
   "display_name": "Python 3 (ipykernel)",
   "language": "python",
   "name": "python3"
  },
  "language_info": {
   "codemirror_mode": {
    "name": "ipython",
    "version": 3
   },
   "file_extension": ".py",
   "mimetype": "text/x-python",
   "name": "python",
   "nbconvert_exporter": "python",
   "pygments_lexer": "ipython3",
   "version": "3.10.8"
  }
 },
 "nbformat": 4,
 "nbformat_minor": 2
}
