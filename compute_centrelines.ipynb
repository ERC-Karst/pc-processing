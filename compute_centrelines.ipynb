{
 "cells": [
  {
   "cell_type": "code",
   "execution_count": 1,
   "metadata": {},
   "outputs": [
    {
     "name": "stdout",
     "output_type": "stream",
     "text": [
      "Jupyter environment detected. Enabling Open3D WebVisualizer.\n",
      "[Open3D INFO] WebRTC GUI backend enabled.\n",
      "[Open3D INFO] WebRTCWindowSystem: HTTP handshake server disabled.\n"
     ]
    }
   ],
   "source": [
    "from os import path, listdir\n",
    "from base.process_centreline import process_centreline"
   ]
  },
  {
   "cell_type": "markdown",
   "metadata": {},
   "source": [
    "## Data repository structure \n",
    "\n",
    "``` root/\n",
    "|--- Cave1/\n",
    "|    |--- Passage1/\n",
    "|    |    |--- pointclouds/\n",
    "|    |    |    |--- Cave1_Passage1_sampled_2mm_PCV_normals_classified_georef.las\n",
    "|    |    |    |--- Cave1_Passage1_sampled_5cm_PCV_normals_classified_georef.las\n",
    "|    |    |--- mesh/\n",
    "|    |    |    |--- Cave1_Passage1_mesh_5cm.ply\n",
    "|    |    |--- raster/\n",
    "|    |    |    |--- Cave1_Passage1_floor_4cm.tif\n",
    "|    |    |    |--- Cave1_Passage1_floor_4cm_Cave_Terrain.tif\n",
    "|    |    |    |--- Cave1_Passage1_ceiling_4cm.tif\n",
    "|    |    |    |--- Cave1_Passage1_ceiling_4cm_Cave_Terrain.tif\n",
    "|    |    |--- centreline/\n",
    "|    |    |    |--- Cave1_Passage1_nodes.txt\n",
    "|    |    |    |--- Cave1_Passage1_links.txt\n",
    "|    |    |    |--- Cave1_Passage1_branches.txt\n",
    "|    |    |    |--- Cave1_Passage1.dxf\n",
    "|    |    |    |--- Cave1_Passage1.geojsons\n",
    "|    |    |--- scan.yaml\n",
    "|    |--- Passage2/\n",
    "|    |    |...\n",
    "|    |--- cave.yaml\n",
    "|--- Cave2/\n",
    "|    | ...\n",
    "```\n"
   ]
  },
  {
   "cell_type": "code",
   "execution_count": 2,
   "metadata": {},
   "outputs": [],
   "source": [
    "# change here the path to the repository of karst catalogue\n",
    "data_repository = \"F:/ScanLeica/data_paper/data\" \n",
    "\n",
    "# list the different cave directories at the root directory level\n",
    "caves = [elem for elem in listdir(data_repository) if \".\" not in elem]\n",
    "\n",
    "# find unique passage filepaths\n",
    "passages_fp = []\n",
    "for cave in caves:\n",
    "    # list all directory names within data\n",
    "    new_passages = [elem for elem in listdir(path.join(data_repository, cave)) if \".\" not in elem]\n",
    "    for new_passage in new_passages:\n",
    "        passages_fp.append(path.normpath(path.join(data_repository, cave, new_passage)))"
   ]
  },
  {
   "cell_type": "code",
   "execution_count": 3,
   "metadata": {},
   "outputs": [
    {
     "name": "stderr",
     "output_type": "stream",
     "text": [
      "2025-03-26 14:40:17,790 - PCD #points: 6200\n"
     ]
    },
    {
     "name": "stdout",
     "output_type": "stream",
     "text": [
      "processing PostEtroiture in Archamps\n"
     ]
    },
    {
     "name": "stderr",
     "output_type": "stream",
     "text": [
      "Volume ratio: 1.0. Contraction weights: 680.5510103199623. Attraction weights: 14.310655669912597. Progress LBC:  15%|▏2025-03-26 14:40:19,083 - Contraction is Done.\n",
      "Volume ratio: 1.0. Contraction weights: 680.5510103199623. Attraction weights: 14.310655669912597. Progress LBC:  15%|▏"
     ]
    },
    {
     "name": "stdout",
     "output_type": "stream",
     "text": [
      "Contraction is Done.\n",
      "there were 1 connected components.\n",
      "cloud contraction done in 1.4579877853393555s\n"
     ]
    },
    {
     "name": "stderr",
     "output_type": "stream",
     "text": [
      "\n"
     ]
    },
    {
     "name": "stdout",
     "output_type": "stream",
     "text": [
      "processing PreEtroiture in Archamps\n"
     ]
    },
    {
     "name": "stderr",
     "output_type": "stream",
     "text": [
      "2025-03-26 14:40:20,316 - PCD #points: 23178\n",
      "Volume ratio: 1.0. Contraction weights: 2048.0. Attraction weights: 8.8755684149504. Progress LBC:  15%|▏| 3/20 [00:04<2025-03-26 14:40:28,238 - Contraction is Done.\n",
      "Volume ratio: 1.0. Contraction weights: 2048.0. Attraction weights: 8.8755684149504. Progress LBC:  15%|▏| 3/20 [00:07<"
     ]
    },
    {
     "name": "stdout",
     "output_type": "stream",
     "text": [
      "Contraction is Done.\n"
     ]
    },
    {
     "name": "stderr",
     "output_type": "stream",
     "text": [
      "\n"
     ]
    },
    {
     "name": "stdout",
     "output_type": "stream",
     "text": [
      "there were 1 connected components.\n",
      "cloud contraction done in 8.663430213928223s\n"
     ]
    }
   ],
   "source": [
    "centrelines = []\n",
    "\n",
    "# overwrite the laplacian.based contraction algorithm default arguments here.\n",
    "lbc_args = dict(init_contraction = 0.5,\n",
    "                init_attraction = 0.5, \n",
    "                down_sample=0.4)\n",
    "\n",
    "# overwrite the centreline downsampling default arguments here.\n",
    "ct_args = dict(centreline_min_distance = 0.4,  # minimum distance between spatially downsampled points of a centreline.\n",
    "               octree_level = 5, # threshold distance for connected component analysis. \n",
    "               min_component_size = 5,  # minimum component size in connected component analysis.\n",
    "               knn = 12) # number of nearest neighbours to be considered when building the minimum spanning tree of a thinned graph.\n",
    "\n",
    "# cycle through passage names and run the routine.\n",
    "for fp in passages_fp[:2]:\n",
    "    centreline = process_centreline(fp, lbc_args=lbc_args, ct_args=ct_args)\n",
    "    centrelines.append(centreline) "
   ]
  },
  {
   "cell_type": "code",
   "execution_count": null,
   "metadata": {},
   "outputs": [],
   "source": []
  }
 ],
 "metadata": {
  "kernelspec": {
   "display_name": "Python 3 (ipykernel)",
   "language": "python",
   "name": "python3"
  }
 },
 "nbformat": 4,
 "nbformat_minor": 2
}
